{
 "cells": [
  {
   "cell_type": "code",
   "execution_count": 33,
   "id": "2d4bd9d0",
   "metadata": {},
   "outputs": [],
   "source": [
    "# Importing Libraries\n",
    "import pandas as pd\n",
    "import numpy as np\n",
    "import matplotlib.pyplot as plt\n"
   ]
  },
  {
   "cell_type": "code",
   "execution_count": 34,
   "id": "42090a84",
   "metadata": {},
   "outputs": [],
   "source": [
    "from sklearn.metrics import pairwise_distances\n",
    "from scipy.spatial.distance import cosine,correlation\n",
    "from sklearn.feature_extraction.text import CountVectorizer\n"
   ]
  },
  {
   "cell_type": "code",
   "execution_count": 35,
   "id": "24cb65df",
   "metadata": {},
   "outputs": [],
   "source": [
    "import warnings\n",
    "warnings.filterwarnings('ignore')"
   ]
  },
  {
   "cell_type": "code",
   "execution_count": 3,
   "id": "50583b8a",
   "metadata": {},
   "outputs": [
    {
     "data": {
      "text/html": [
       "<div>\n",
       "<style scoped>\n",
       "    .dataframe tbody tr th:only-of-type {\n",
       "        vertical-align: middle;\n",
       "    }\n",
       "\n",
       "    .dataframe tbody tr th {\n",
       "        vertical-align: top;\n",
       "    }\n",
       "\n",
       "    .dataframe thead th {\n",
       "        text-align: right;\n",
       "    }\n",
       "</style>\n",
       "<table border=\"1\" class=\"dataframe\">\n",
       "  <thead>\n",
       "    <tr style=\"text-align: right;\">\n",
       "      <th></th>\n",
       "      <th>Unnamed: 0</th>\n",
       "      <th>User.ID</th>\n",
       "      <th>Book.Title</th>\n",
       "      <th>Book.Rating</th>\n",
       "    </tr>\n",
       "  </thead>\n",
       "  <tbody>\n",
       "    <tr>\n",
       "      <th>0</th>\n",
       "      <td>1</td>\n",
       "      <td>276726</td>\n",
       "      <td>Classical Mythology</td>\n",
       "      <td>5</td>\n",
       "    </tr>\n",
       "    <tr>\n",
       "      <th>1</th>\n",
       "      <td>2</td>\n",
       "      <td>276729</td>\n",
       "      <td>Clara Callan</td>\n",
       "      <td>3</td>\n",
       "    </tr>\n",
       "    <tr>\n",
       "      <th>2</th>\n",
       "      <td>3</td>\n",
       "      <td>276729</td>\n",
       "      <td>Decision in Normandy</td>\n",
       "      <td>6</td>\n",
       "    </tr>\n",
       "    <tr>\n",
       "      <th>3</th>\n",
       "      <td>4</td>\n",
       "      <td>276736</td>\n",
       "      <td>Flu: The Story of the Great Influenza Pandemic...</td>\n",
       "      <td>8</td>\n",
       "    </tr>\n",
       "    <tr>\n",
       "      <th>4</th>\n",
       "      <td>5</td>\n",
       "      <td>276737</td>\n",
       "      <td>The Mummies of Urumchi</td>\n",
       "      <td>6</td>\n",
       "    </tr>\n",
       "    <tr>\n",
       "      <th>...</th>\n",
       "      <td>...</td>\n",
       "      <td>...</td>\n",
       "      <td>...</td>\n",
       "      <td>...</td>\n",
       "    </tr>\n",
       "    <tr>\n",
       "      <th>9995</th>\n",
       "      <td>9996</td>\n",
       "      <td>162121</td>\n",
       "      <td>American Fried: Adventures of a Happy Eater.</td>\n",
       "      <td>7</td>\n",
       "    </tr>\n",
       "    <tr>\n",
       "      <th>9996</th>\n",
       "      <td>9997</td>\n",
       "      <td>162121</td>\n",
       "      <td>Cannibal In Manhattan</td>\n",
       "      <td>9</td>\n",
       "    </tr>\n",
       "    <tr>\n",
       "      <th>9997</th>\n",
       "      <td>9998</td>\n",
       "      <td>162121</td>\n",
       "      <td>How to Flirt: A Practical Guide</td>\n",
       "      <td>7</td>\n",
       "    </tr>\n",
       "    <tr>\n",
       "      <th>9998</th>\n",
       "      <td>9999</td>\n",
       "      <td>162121</td>\n",
       "      <td>Twilight</td>\n",
       "      <td>8</td>\n",
       "    </tr>\n",
       "    <tr>\n",
       "      <th>9999</th>\n",
       "      <td>10000</td>\n",
       "      <td>162129</td>\n",
       "      <td>Kids Say the Darndest Things</td>\n",
       "      <td>6</td>\n",
       "    </tr>\n",
       "  </tbody>\n",
       "</table>\n",
       "<p>10000 rows × 4 columns</p>\n",
       "</div>"
      ],
      "text/plain": [
       "      Unnamed: 0  User.ID                                         Book.Title  \\\n",
       "0              1   276726                                Classical Mythology   \n",
       "1              2   276729                                       Clara Callan   \n",
       "2              3   276729                               Decision in Normandy   \n",
       "3              4   276736  Flu: The Story of the Great Influenza Pandemic...   \n",
       "4              5   276737                             The Mummies of Urumchi   \n",
       "...          ...      ...                                                ...   \n",
       "9995        9996   162121       American Fried: Adventures of a Happy Eater.   \n",
       "9996        9997   162121                              Cannibal In Manhattan   \n",
       "9997        9998   162121                    How to Flirt: A Practical Guide   \n",
       "9998        9999   162121                                           Twilight   \n",
       "9999       10000   162129                       Kids Say the Darndest Things   \n",
       "\n",
       "      Book.Rating  \n",
       "0               5  \n",
       "1               3  \n",
       "2               6  \n",
       "3               8  \n",
       "4               6  \n",
       "...           ...  \n",
       "9995            7  \n",
       "9996            9  \n",
       "9997            7  \n",
       "9998            8  \n",
       "9999            6  \n",
       "\n",
       "[10000 rows x 4 columns]"
      ]
     },
     "execution_count": 3,
     "metadata": {},
     "output_type": "execute_result"
    }
   ],
   "source": [
    "#import Dataset\n",
    "book = pd.read_csv('book.csv',encoding='Latin1')\n",
    "book"
   ]
  },
  {
   "cell_type": "code",
   "execution_count": 4,
   "id": "862a930f",
   "metadata": {},
   "outputs": [
    {
     "data": {
      "text/plain": [
       "(10000, 4)"
      ]
     },
     "execution_count": 4,
     "metadata": {},
     "output_type": "execute_result"
    }
   ],
   "source": [
    "#shape of dataframe\n",
    "book.shape"
   ]
  },
  {
   "cell_type": "code",
   "execution_count": 5,
   "id": "5895199d",
   "metadata": {},
   "outputs": [
    {
     "data": {
      "text/plain": [
       "array([276726, 276729, 276736, ..., 162113, 162121, 162129], dtype=int64)"
      ]
     },
     "execution_count": 5,
     "metadata": {},
     "output_type": "execute_result"
    }
   ],
   "source": [
    "# unique user_id column\n",
    "book['User.ID'].unique()"
   ]
  },
  {
   "cell_type": "code",
   "execution_count": 6,
   "id": "70b51a86",
   "metadata": {},
   "outputs": [
    {
     "data": {
      "text/plain": [
       "2182"
      ]
     },
     "execution_count": 6,
     "metadata": {},
     "output_type": "execute_result"
    }
   ],
   "source": [
    "# number of unique users in the dataset\n",
    "len(book['User.ID'].unique())"
   ]
  },
  {
   "cell_type": "code",
   "execution_count": 7,
   "id": "7881e997",
   "metadata": {},
   "outputs": [
    {
     "data": {
      "text/plain": [
       "array(['Classical Mythology', 'Clara Callan', 'Decision in Normandy', ...,\n",
       "       'How to Flirt: A Practical Guide', 'Twilight',\n",
       "       'Kids Say the Darndest Things'], dtype=object)"
      ]
     },
     "execution_count": 7,
     "metadata": {},
     "output_type": "execute_result"
    }
   ],
   "source": [
    "# unique user_id column\n",
    "book['Book.Title'].unique()"
   ]
  },
  {
   "cell_type": "code",
   "execution_count": 8,
   "id": "6c873543",
   "metadata": {},
   "outputs": [
    {
     "data": {
      "text/plain": [
       "9659"
      ]
     },
     "execution_count": 8,
     "metadata": {},
     "output_type": "execute_result"
    }
   ],
   "source": [
    "# number of unique books in the dataset\n",
    "len(book['Book.Title'].unique())"
   ]
  },
  {
   "cell_type": "code",
   "execution_count": 9,
   "id": "5c187482",
   "metadata": {},
   "outputs": [
    {
     "data": {
      "text/plain": [
       "8     2283\n",
       "7     2076\n",
       "10    1732\n",
       "9     1493\n",
       "5     1007\n",
       "6      920\n",
       "4      237\n",
       "3      146\n",
       "2       63\n",
       "1       43\n",
       "Name: Book.Rating, dtype: int64"
      ]
     },
     "execution_count": 9,
     "metadata": {},
     "output_type": "execute_result"
    }
   ],
   "source": [
    "# Book Rating value_count\n",
    "book['Book.Rating'].value_counts()"
   ]
  },
  {
   "cell_type": "code",
   "execution_count": 10,
   "id": "02606575",
   "metadata": {},
   "outputs": [
    {
     "name": "stdout",
     "output_type": "stream",
     "text": [
      "<class 'pandas.core.frame.DataFrame'>\n",
      "RangeIndex: 10000 entries, 0 to 9999\n",
      "Data columns (total 4 columns):\n",
      " #   Column       Non-Null Count  Dtype \n",
      "---  ------       --------------  ----- \n",
      " 0   Unnamed: 0   10000 non-null  int64 \n",
      " 1   User.ID      10000 non-null  int64 \n",
      " 2   Book.Title   10000 non-null  object\n",
      " 3   Book.Rating  10000 non-null  int64 \n",
      "dtypes: int64(3), object(1)\n",
      "memory usage: 312.6+ KB\n"
     ]
    }
   ],
   "source": [
    "book.info()"
   ]
  },
  {
   "cell_type": "code",
   "execution_count": 11,
   "id": "3526805b",
   "metadata": {
    "scrolled": true
   },
   "outputs": [
    {
     "data": {
      "text/html": [
       "<div>\n",
       "<style scoped>\n",
       "    .dataframe tbody tr th:only-of-type {\n",
       "        vertical-align: middle;\n",
       "    }\n",
       "\n",
       "    .dataframe tbody tr th {\n",
       "        vertical-align: top;\n",
       "    }\n",
       "\n",
       "    .dataframe thead th {\n",
       "        text-align: right;\n",
       "    }\n",
       "</style>\n",
       "<table border=\"1\" class=\"dataframe\">\n",
       "  <thead>\n",
       "    <tr style=\"text-align: right;\">\n",
       "      <th></th>\n",
       "      <th>Unnamed: 0</th>\n",
       "      <th>User.ID</th>\n",
       "      <th>Book.Rating</th>\n",
       "    </tr>\n",
       "  </thead>\n",
       "  <tbody>\n",
       "    <tr>\n",
       "      <th>count</th>\n",
       "      <td>10000.00000</td>\n",
       "      <td>10000.000000</td>\n",
       "      <td>10000.00000</td>\n",
       "    </tr>\n",
       "    <tr>\n",
       "      <th>mean</th>\n",
       "      <td>5000.50000</td>\n",
       "      <td>95321.249800</td>\n",
       "      <td>7.56630</td>\n",
       "    </tr>\n",
       "    <tr>\n",
       "      <th>std</th>\n",
       "      <td>2886.89568</td>\n",
       "      <td>117645.703609</td>\n",
       "      <td>1.82152</td>\n",
       "    </tr>\n",
       "    <tr>\n",
       "      <th>min</th>\n",
       "      <td>1.00000</td>\n",
       "      <td>8.000000</td>\n",
       "      <td>1.00000</td>\n",
       "    </tr>\n",
       "    <tr>\n",
       "      <th>25%</th>\n",
       "      <td>2500.75000</td>\n",
       "      <td>2103.000000</td>\n",
       "      <td>7.00000</td>\n",
       "    </tr>\n",
       "    <tr>\n",
       "      <th>50%</th>\n",
       "      <td>5000.50000</td>\n",
       "      <td>3757.000000</td>\n",
       "      <td>8.00000</td>\n",
       "    </tr>\n",
       "    <tr>\n",
       "      <th>75%</th>\n",
       "      <td>7500.25000</td>\n",
       "      <td>162052.000000</td>\n",
       "      <td>9.00000</td>\n",
       "    </tr>\n",
       "    <tr>\n",
       "      <th>max</th>\n",
       "      <td>10000.00000</td>\n",
       "      <td>278854.000000</td>\n",
       "      <td>10.00000</td>\n",
       "    </tr>\n",
       "  </tbody>\n",
       "</table>\n",
       "</div>"
      ],
      "text/plain": [
       "        Unnamed: 0        User.ID  Book.Rating\n",
       "count  10000.00000   10000.000000  10000.00000\n",
       "mean    5000.50000   95321.249800      7.56630\n",
       "std     2886.89568  117645.703609      1.82152\n",
       "min        1.00000       8.000000      1.00000\n",
       "25%     2500.75000    2103.000000      7.00000\n",
       "50%     5000.50000    3757.000000      8.00000\n",
       "75%     7500.25000  162052.000000      9.00000\n",
       "max    10000.00000  278854.000000     10.00000"
      ]
     },
     "execution_count": 11,
     "metadata": {},
     "output_type": "execute_result"
    }
   ],
   "source": [
    "book.describe()"
   ]
  },
  {
   "cell_type": "code",
   "execution_count": 12,
   "id": "3d3cdbba",
   "metadata": {},
   "outputs": [
    {
     "data": {
      "text/plain": [
       "Unnamed: 0     False\n",
       "User.ID        False\n",
       "Book.Title     False\n",
       "Book.Rating    False\n",
       "dtype: bool"
      ]
     },
     "execution_count": 12,
     "metadata": {},
     "output_type": "execute_result"
    }
   ],
   "source": [
    "book.isnull().any()"
   ]
  },
  {
   "cell_type": "code",
   "execution_count": 13,
   "id": "40115df8",
   "metadata": {},
   "outputs": [
    {
     "data": {
      "text/plain": [
       "Unnamed: 0     0\n",
       "User.ID        0\n",
       "Book.Title     0\n",
       "Book.Rating    0\n",
       "dtype: int64"
      ]
     },
     "execution_count": 13,
     "metadata": {},
     "output_type": "execute_result"
    }
   ],
   "source": [
    "book.isnull().sum()"
   ]
  },
  {
   "cell_type": "code",
   "execution_count": 14,
   "id": "8e579954",
   "metadata": {},
   "outputs": [
    {
     "data": {
      "text/plain": [
       "0"
      ]
     },
     "execution_count": 14,
     "metadata": {},
     "output_type": "execute_result"
    }
   ],
   "source": [
    "book.duplicated().sum()"
   ]
  },
  {
   "cell_type": "code",
   "execution_count": 15,
   "id": "5e59df8a",
   "metadata": {},
   "outputs": [
    {
     "data": {
      "text/plain": [
       "(0, 4)"
      ]
     },
     "execution_count": 15,
     "metadata": {},
     "output_type": "execute_result"
    }
   ],
   "source": [
    "book[book.duplicated()].shape"
   ]
  },
  {
   "cell_type": "code",
   "execution_count": 16,
   "id": "81ba7669",
   "metadata": {},
   "outputs": [
    {
     "data": {
      "text/plain": [
       "Index(['Unnamed: 0', 'User.ID', 'Book.Title', 'Book.Rating'], dtype='object')"
      ]
     },
     "execution_count": 16,
     "metadata": {},
     "output_type": "execute_result"
    }
   ],
   "source": [
    "#getting column name\n",
    "book.columns"
   ]
  },
  {
   "cell_type": "code",
   "execution_count": 17,
   "id": "d9e15baf",
   "metadata": {},
   "outputs": [],
   "source": [
    "#renaming Columns\n",
    "book.rename(columns = {'Unnamed: 0':'sr','User.ID':'userid','Book.Title':'title','Book.Rating':'rating'}, inplace = True)"
   ]
  },
  {
   "cell_type": "code",
   "execution_count": 18,
   "id": "39248c2f",
   "metadata": {},
   "outputs": [
    {
     "data": {
      "text/html": [
       "<div>\n",
       "<style scoped>\n",
       "    .dataframe tbody tr th:only-of-type {\n",
       "        vertical-align: middle;\n",
       "    }\n",
       "\n",
       "    .dataframe tbody tr th {\n",
       "        vertical-align: top;\n",
       "    }\n",
       "\n",
       "    .dataframe thead th {\n",
       "        text-align: right;\n",
       "    }\n",
       "</style>\n",
       "<table border=\"1\" class=\"dataframe\">\n",
       "  <thead>\n",
       "    <tr style=\"text-align: right;\">\n",
       "      <th></th>\n",
       "      <th>sr</th>\n",
       "      <th>userid</th>\n",
       "      <th>title</th>\n",
       "      <th>rating</th>\n",
       "    </tr>\n",
       "  </thead>\n",
       "  <tbody>\n",
       "    <tr>\n",
       "      <th>0</th>\n",
       "      <td>1</td>\n",
       "      <td>276726</td>\n",
       "      <td>Classical Mythology</td>\n",
       "      <td>5</td>\n",
       "    </tr>\n",
       "    <tr>\n",
       "      <th>1</th>\n",
       "      <td>2</td>\n",
       "      <td>276729</td>\n",
       "      <td>Clara Callan</td>\n",
       "      <td>3</td>\n",
       "    </tr>\n",
       "    <tr>\n",
       "      <th>2</th>\n",
       "      <td>3</td>\n",
       "      <td>276729</td>\n",
       "      <td>Decision in Normandy</td>\n",
       "      <td>6</td>\n",
       "    </tr>\n",
       "    <tr>\n",
       "      <th>3</th>\n",
       "      <td>4</td>\n",
       "      <td>276736</td>\n",
       "      <td>Flu: The Story of the Great Influenza Pandemic...</td>\n",
       "      <td>8</td>\n",
       "    </tr>\n",
       "    <tr>\n",
       "      <th>4</th>\n",
       "      <td>5</td>\n",
       "      <td>276737</td>\n",
       "      <td>The Mummies of Urumchi</td>\n",
       "      <td>6</td>\n",
       "    </tr>\n",
       "  </tbody>\n",
       "</table>\n",
       "</div>"
      ],
      "text/plain": [
       "   sr  userid                                              title  rating\n",
       "0   1  276726                                Classical Mythology       5\n",
       "1   2  276729                                       Clara Callan       3\n",
       "2   3  276729                               Decision in Normandy       6\n",
       "3   4  276736  Flu: The Story of the Great Influenza Pandemic...       8\n",
       "4   5  276737                             The Mummies of Urumchi       6"
      ]
     },
     "execution_count": 18,
     "metadata": {},
     "output_type": "execute_result"
    }
   ],
   "source": [
    "book.head()"
   ]
  },
  {
   "cell_type": "code",
   "execution_count": 19,
   "id": "9d792b4a",
   "metadata": {},
   "outputs": [
    {
     "data": {
      "text/plain": [
       "Index(['sr', 'userid', 'title', 'rating'], dtype='object')"
      ]
     },
     "execution_count": 19,
     "metadata": {},
     "output_type": "execute_result"
    }
   ],
   "source": [
    "#after colums\n",
    "book.columns"
   ]
  },
  {
   "cell_type": "code",
   "execution_count": 20,
   "id": "2dc1b657",
   "metadata": {},
   "outputs": [
    {
     "data": {
      "text/plain": [
       "0                                     Classical Mythology\n",
       "1                                            Clara Callan\n",
       "2                                    Decision in Normandy\n",
       "3       Flu: The Story of the Great Influenza Pandemic...\n",
       "4                                  The Mummies of Urumchi\n",
       "                              ...                        \n",
       "9995         American Fried: Adventures of a Happy Eater.\n",
       "9996                                Cannibal In Manhattan\n",
       "9997                      How to Flirt: A Practical Guide\n",
       "9998                                             Twilight\n",
       "9999                         Kids Say the Darndest Things\n",
       "Name: title, Length: 10000, dtype: object"
      ]
     },
     "execution_count": 20,
     "metadata": {},
     "output_type": "execute_result"
    }
   ],
   "source": [
    "#title columns\n",
    "book.title"
   ]
  },
  {
   "cell_type": "code",
   "execution_count": 21,
   "id": "26f3e673",
   "metadata": {},
   "outputs": [],
   "source": [
    "from sklearn.feature_extraction.text import TfidfVectorizer#term frequencey- inverse document frequncy is a numerical statistic \n",
    "#that is intended to reflect how important a word is to document in a \n",
    "#collecion or corpus"
   ]
  },
  {
   "cell_type": "code",
   "execution_count": 22,
   "id": "249cffbe",
   "metadata": {},
   "outputs": [],
   "source": [
    "# Creating a Tfidf Vectorizer to remove all stop words\n",
    "tfidf = TfidfVectorizer(stop_words=\"english\")#taking stop words from tfid vectorizer "
   ]
  },
  {
   "cell_type": "code",
   "execution_count": 23,
   "id": "03628e45",
   "metadata": {},
   "outputs": [],
   "source": [
    "# replacing the NaN values in overview column with\n",
    "# empty string\n",
    "book[\"title\"].isnull().sum() \n",
    "book[\"title\"] = book[\"title\"].fillna(\" \")"
   ]
  },
  {
   "cell_type": "code",
   "execution_count": 24,
   "id": "00166469",
   "metadata": {},
   "outputs": [],
   "source": [
    "# Preparing the Tfidf matrix by fitting and transforming\n",
    "tfidf_matrix = tfidf.fit_transform(book.title)#Transform a count matrix to a normalized tf or tf-idf representation"
   ]
  },
  {
   "cell_type": "code",
   "execution_count": 25,
   "id": "6c9b43cf",
   "metadata": {},
   "outputs": [
    {
     "data": {
      "text/plain": [
       "(10000, 11435)"
      ]
     },
     "execution_count": 25,
     "metadata": {},
     "output_type": "execute_result"
    }
   ],
   "source": [
    "tfidf_matrix.shape #10000,11435"
   ]
  },
  {
   "cell_type": "code",
   "execution_count": 26,
   "id": "5a360130",
   "metadata": {},
   "outputs": [],
   "source": [
    "# with the above matrix we need to find the \n",
    "# similarity score\n",
    "# There are several metrics for this\n",
    "# such as the euclidean, the Pearson and \n",
    "# the cosine similarity scores\n",
    "\n",
    "# For now we will be using cosine similarity matrix\n",
    "# A numeric quantity to represent the similarity \n",
    "# between 2 movies \n",
    "# Cosine similarity - metric is independent of \n",
    "# magnitude and easy to calculate \n",
    "\n",
    "# cosine(x,y)= (x.y⊺)/(||x||.||y||)"
   ]
  },
  {
   "cell_type": "code",
   "execution_count": 27,
   "id": "fc0f33fc",
   "metadata": {},
   "outputs": [],
   "source": [
    "from sklearn.metrics.pairwise import linear_kernel"
   ]
  },
  {
   "cell_type": "code",
   "execution_count": 28,
   "id": "f573702b",
   "metadata": {},
   "outputs": [],
   "source": [
    "# Computing the cosine similarity on Tfidf matrix\n",
    "cosine_sim_matrix = linear_kernel(tfidf_matrix,tfidf_matrix)"
   ]
  },
  {
   "cell_type": "code",
   "execution_count": 29,
   "id": "b3259858",
   "metadata": {},
   "outputs": [],
   "source": [
    "# creating a mapping of anime name to index number \n",
    "book_index = pd.Series(book.index,index=book['title']).drop_duplicates()\n"
   ]
  },
  {
   "cell_type": "code",
   "execution_count": 30,
   "id": "deeb30a1",
   "metadata": {},
   "outputs": [
    {
     "data": {
      "text/plain": [
       "1"
      ]
     },
     "execution_count": 30,
     "metadata": {},
     "output_type": "execute_result"
    }
   ],
   "source": [
    "book_index[\"Clara Callan\"]"
   ]
  },
  {
   "cell_type": "code",
   "execution_count": 31,
   "id": "1fdcc52a",
   "metadata": {},
   "outputs": [],
   "source": [
    "def get_book_recommendations(title,topN):\n",
    "    \n",
    "   \n",
    "    #topN = 10\n",
    "    # Getting the movie index using its title \n",
    "    book_id = book_index[title]\n",
    "    \n",
    "    # Getting the pair wise similarity score for all the anime's with that \n",
    "    # anime\n",
    "    cosine_scores = list(enumerate(cosine_sim_matrix[book_id]))\n",
    "    \n",
    "    # Sorting the cosine_similarity scores based on scores \n",
    "    cosine_scores = sorted(cosine_scores,key=lambda x:x[1],reverse = True)\n",
    "    \n",
    "    # Get the scores of top 10 most similar anime's \n",
    "    cosine_scores_10 = cosine_scores [ 0:topN+1 ]\n",
    "    \n",
    "    # Getting the anime index \n",
    "    book_idx  =  [i[0] for i in cosine_scores_10]\n",
    "    book_scores =  [i[1] for i in cosine_scores_10]\n",
    "    \n",
    "    # Similar movies and scores\n",
    "    book_similar_show = pd.DataFrame(columns=[\"title\",\"rating\"])\n",
    "    book_similar_show[\"title\"] = book.loc[book_idx,\"title\"]\n",
    "    book_similar_show[\"rating\"] = book_scores\n",
    "    book_similar_show.reset_index(inplace=True)  \n",
    "    book_similar_show.drop([\"index\"],axis=1,inplace=True)\n",
    "    print (book_similar_show)\n",
    "    #return (anime_similar_show)\n"
   ]
  },
  {
   "cell_type": "code",
   "execution_count": 32,
   "id": "fb9b0df1",
   "metadata": {},
   "outputs": [
    {
     "name": "stdout",
     "output_type": "stream",
     "text": [
      "                                              title    rating\n",
      "0                                        Love Story  1.000000\n",
      "1                                          MY STORY  0.717371\n",
      "2                                I Love You So Much  0.696691\n",
      "3                                    For Love Alone  0.696691\n",
      "4                                              Love  0.696691\n",
      "5                             You Are My I Love You  0.696691\n",
      "6                           D/S: An Anti-Love Story  0.645391\n",
      "7                            Drinking: A Love Story  0.635717\n",
      "8                           My Sergei: A Love Story  0.623526\n",
      "9                          My Sergei : A Love Story  0.623526\n",
      "10                            Love to Love You Baby  0.598832\n",
      "11                 The Bachelor's Cat: A Love Story  0.586780\n",
      "12                      The Frog King: A Love Story  0.565694\n",
      "13  The LAST STORY (REMEMBER ME 3) : THE LAST STORY  0.540167\n",
      "14                         Only Love (Magical Love)  0.539739\n",
      "15                                 Story of My Life  0.524556\n"
     ]
    }
   ],
   "source": [
    "# Enter your anime and number of anime's to be recommended \n",
    "get_book_recommendations(\"Love Story\",topN=15)"
   ]
  },
  {
   "cell_type": "code",
   "execution_count": null,
   "id": "3206348a",
   "metadata": {},
   "outputs": [],
   "source": []
  },
  {
   "cell_type": "code",
   "execution_count": null,
   "id": "65b79344",
   "metadata": {},
   "outputs": [],
   "source": []
  },
  {
   "cell_type": "code",
   "execution_count": null,
   "id": "55025d4d",
   "metadata": {},
   "outputs": [],
   "source": []
  },
  {
   "cell_type": "code",
   "execution_count": null,
   "id": "45167ee0",
   "metadata": {},
   "outputs": [],
   "source": []
  }
 ],
 "metadata": {
  "kernelspec": {
   "display_name": "Python 3 (ipykernel)",
   "language": "python",
   "name": "python3"
  },
  "language_info": {
   "codemirror_mode": {
    "name": "ipython",
    "version": 3
   },
   "file_extension": ".py",
   "mimetype": "text/x-python",
   "name": "python",
   "nbconvert_exporter": "python",
   "pygments_lexer": "ipython3",
   "version": "3.9.12"
  }
 },
 "nbformat": 4,
 "nbformat_minor": 5
}
